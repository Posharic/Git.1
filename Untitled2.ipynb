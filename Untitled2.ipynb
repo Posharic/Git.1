{
 "cells": [
  {
   "cell_type": "code",
   "execution_count": 4,
   "id": "0887e7ea",
   "metadata": {},
   "outputs": [
    {
     "name": "stdout",
     "output_type": "stream",
     "text": [
      "Data:  Genesis Block\n",
      "Timestamp:  2024-02-18 19:06:59.743232\n",
      "Hash:  da7d1ce2701014e1ed97d0130257dddc56b814d60147c664155d6147f28c0b20\n",
      "Previous_hash:  0\n",
      "Data:  {'data': 'Transaction 1'}\n",
      "Timestamp:  2024-02-18 19:06:59.743232\n",
      "Hash:  5c8952495d71502ada6317f3aa4a8baa3e5b3470c3760f499e9b2bab13787635\n",
      "Previous_hash:  da7d1ce2701014e1ed97d0130257dddc56b814d60147c664155d6147f28c0b20\n",
      "Data:  {'data': 'Transaction 2'}\n",
      "Timestamp:  2024-02-18 19:06:59.743232\n",
      "Hash:  596b8b3c6ba442b0ffbd863a6a28a35d84fdfca38ab4700a98d773599f3ddc63\n",
      "Previous_hash:  5c8952495d71502ada6317f3aa4a8baa3e5b3470c3760f499e9b2bab13787635\n",
      "Data:  {'data': 'Transaction 3'}\n",
      "Timestamp:  2024-02-18 19:06:59.743232\n",
      "Hash:  127d6f023666d1061d365d09062c74a66bdfa31c5c67a2da781d92041944d396\n",
      "Previous_hash:  596b8b3c6ba442b0ffbd863a6a28a35d84fdfca38ab4700a98d773599f3ddc63\n"
     ]
    },
    {
     "ename": "TypeError",
     "evalue": "Blockchain.is_chain_valid() takes 0 positional arguments but 1 was given",
     "output_type": "error",
     "traceback": [
      "\u001b[1;31m---------------------------------------------------------------------------\u001b[0m",
      "\u001b[1;31mTypeError\u001b[0m                                 Traceback (most recent call last)",
      "Cell \u001b[1;32mIn[4], line 50\u001b[0m\n\u001b[0;32m     47\u001b[0m     \u001b[38;5;28mprint\u001b[39m(\u001b[38;5;124m\"\u001b[39m\u001b[38;5;124mHash: \u001b[39m\u001b[38;5;124m\"\u001b[39m, block\u001b[38;5;241m.\u001b[39mhash)\n\u001b[0;32m     48\u001b[0m     \u001b[38;5;28mprint\u001b[39m(\u001b[38;5;124m\"\u001b[39m\u001b[38;5;124mPrevious_hash: \u001b[39m\u001b[38;5;124m\"\u001b[39m, block\u001b[38;5;241m.\u001b[39mprevious_hash)\n\u001b[1;32m---> 50\u001b[0m \u001b[38;5;28mprint\u001b[39m(\u001b[38;5;124m\"\u001b[39m\u001b[38;5;124mIs chain valid\u001b[39m\u001b[38;5;124m\"\u001b[39m, demo_blockchain\u001b[38;5;241m.\u001b[39mis_chain_valid())\n",
      "\u001b[1;31mTypeError\u001b[0m: Blockchain.is_chain_valid() takes 0 positional arguments but 1 was given"
     ]
    }
   ],
   "source": [
    "import hashlib\n",
    "import datetime\n",
    "\n",
    "class block:\n",
    "    def __init__ (self, timestamp, data, previous_hash):\n",
    "        self.timestamp = timestamp\n",
    "        self.previous_hash = previous_hash\n",
    "        self.data = data\n",
    "        self.hash = self.calculate_hash()\n",
    "    \n",
    "    def calculate_hash(self):\n",
    "        hash_string = str(self.timestamp) + str(self.data) + str(self.previous_hash)\n",
    "        return hashlib.sha256(hash_string.encode()).hexdigest()\n",
    "myBlock = block(datetime.datetime.now(), {'data':\"Transaction 1\"},\"\")\n",
    "\n",
    "class Blockchain:\n",
    "    def __init__(self):\n",
    "        self.chain = [self.create_genesis_block()]\n",
    "        \n",
    "    def create_genesis_block(self):\n",
    "        return block(datetime.datetime.now(),\"Genesis Block\",\"0\")\n",
    "    def add_block(self, new_block):\n",
    "        new_block.previous_hash = self.chain[-1].hash\n",
    "        new_block.hash = new_block.calculate_hash()\n",
    "        self.chain.append(new_block)\n",
    "    \n",
    "    def is_chain_valid():\n",
    "        for i in range(i, len(self.chain)):\n",
    "            current_block = self.chain[i]\n",
    "            previous_block = self.chain[i-1]\n",
    "            \n",
    "            if current_block.hash != current_block.calculate_hash():\n",
    "                return False\n",
    "            if previous_block.hash != previous_block.hash():\n",
    "                return False\n",
    "            \n",
    "        return True\n",
    "    \n",
    "demo_blockchain = Blockchain()\n",
    "demo_blockchain.add_block(block(datetime.datetime.now(), {'data':\"Transaction 1\"},\"\"))\n",
    "demo_blockchain.add_block(block(datetime.datetime.now(), {'data':\"Transaction 2\"},\"\"))\n",
    "demo_blockchain.add_block(block(datetime.datetime.now(), {'data':\"Transaction 3\"},\"\"))\n",
    "        \n",
    "for block in demo_blockchain.chain:\n",
    "    print(\"Data: \", block.data)\n",
    "    print(\"Timestamp: \", block.timestamp)\n",
    "    print(\"Hash: \", block.hash)\n",
    "    print(\"Previous_hash: \", block.previous_hash)\n",
    "    \n",
    "print(\"Is chain valid\", demo_blockchain.is_chain_valid())\n",
    "        "
   ]
  },
  {
   "cell_type": "code",
   "execution_count": null,
   "id": "0ccaada7",
   "metadata": {},
   "outputs": [],
   "source": []
  }
 ],
 "metadata": {
  "kernelspec": {
   "display_name": "Python 3 (ipykernel)",
   "language": "python",
   "name": "python3"
  },
  "language_info": {
   "codemirror_mode": {
    "name": "ipython",
    "version": 3
   },
   "file_extension": ".py",
   "mimetype": "text/x-python",
   "name": "python",
   "nbconvert_exporter": "python",
   "pygments_lexer": "ipython3",
   "version": "3.11.5"
  }
 },
 "nbformat": 4,
 "nbformat_minor": 5
}
