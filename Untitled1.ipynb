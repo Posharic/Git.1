{
 "cells": [
  {
   "cell_type": "code",
   "execution_count": 48,
   "id": "bdee3485",
   "metadata": {},
   "outputs": [
    {
     "ename": "NameError",
     "evalue": "name 'new' is not defined",
     "output_type": "error",
     "traceback": [
      "\u001b[1;31m---------------------------------------------------------------------------\u001b[0m",
      "\u001b[1;31mNameError\u001b[0m                                 Traceback (most recent call last)",
      "Cell \u001b[1;32mIn[48], line 40\u001b[0m\n\u001b[0;32m     37\u001b[0m         \u001b[38;5;28;01mreturn\u001b[39;00m \u001b[38;5;28;01mTrue\u001b[39;00m\n\u001b[0;32m     39\u001b[0m demo_blockchain \u001b[38;5;241m=\u001b[39m blockchain()\n\u001b[1;32m---> 40\u001b[0m demo_blockchain\u001b[38;5;241m.\u001b[39madd_block(block(datetime\u001b[38;5;241m.\u001b[39mdatetime\u001b[38;5;241m.\u001b[39mnow(), {\u001b[38;5;124m'\u001b[39m\u001b[38;5;124mdata\u001b[39m\u001b[38;5;124m'\u001b[39m:\u001b[38;5;124m\"\u001b[39m\u001b[38;5;124mTransaction 1\u001b[39m\u001b[38;5;124m\"\u001b[39m},\u001b[38;5;124m\"\u001b[39m\u001b[38;5;124m\"\u001b[39m))\n\u001b[0;32m     41\u001b[0m demo_blockchain\u001b[38;5;241m.\u001b[39madd_block(block(datetime\u001b[38;5;241m.\u001b[39mdatetime\u001b[38;5;241m.\u001b[39mnow(), {\u001b[38;5;124m'\u001b[39m\u001b[38;5;124mdata\u001b[39m\u001b[38;5;124m'\u001b[39m:\u001b[38;5;124m\"\u001b[39m\u001b[38;5;124mTransaction 2\u001b[39m\u001b[38;5;124m\"\u001b[39m},\u001b[38;5;124m\"\u001b[39m\u001b[38;5;124m\"\u001b[39m))\n\u001b[0;32m     42\u001b[0m demo_blockchain\u001b[38;5;241m.\u001b[39madd_block(block(datetime\u001b[38;5;241m.\u001b[39mdatetime\u001b[38;5;241m.\u001b[39mnow(), {\u001b[38;5;124m'\u001b[39m\u001b[38;5;124mdata\u001b[39m\u001b[38;5;124m'\u001b[39m:\u001b[38;5;124m\"\u001b[39m\u001b[38;5;124mTransaction 3\u001b[39m\u001b[38;5;124m\"\u001b[39m},\u001b[38;5;124m\"\u001b[39m\u001b[38;5;124m\"\u001b[39m))\n",
      "Cell \u001b[1;32mIn[32], line 25\u001b[0m, in \u001b[0;36mblockchain.add_block\u001b[1;34m(self, new_block)\u001b[0m\n\u001b[0;32m     23\u001b[0m \u001b[38;5;28;01mdef\u001b[39;00m \u001b[38;5;21madd_block\u001b[39m(\u001b[38;5;28mself\u001b[39m, new_block):\n\u001b[0;32m     24\u001b[0m     new_block\u001b[38;5;241m.\u001b[39mprevious_hash \u001b[38;5;241m=\u001b[39m \u001b[38;5;28mself\u001b[39m\u001b[38;5;241m.\u001b[39mchain[\u001b[38;5;241m-\u001b[39m\u001b[38;5;241m1\u001b[39m]\u001b[38;5;241m.\u001b[39mhash\n\u001b[1;32m---> 25\u001b[0m     new_block\u001b[38;5;241m.\u001b[39mhash \u001b[38;5;241m=\u001b[39m new\u001b[38;5;241m.\u001b[39mblock\u001b[38;5;241m.\u001b[39mcalculate_hash()\n\u001b[0;32m     26\u001b[0m     \u001b[38;5;28mself\u001b[39m\u001b[38;5;241m.\u001b[39mchain\u001b[38;5;241m.\u001b[39mappend(new_block)\n",
      "\u001b[1;31mNameError\u001b[0m: name 'new' is not defined"
     ]
    }
   ],
   "source": []
  },
  {
   "cell_type": "code",
   "execution_count": 49,
   "id": "7442849c",
   "metadata": {},
   "outputs": [
    {
     "ename": "NameError",
     "evalue": "name 'new' is not defined",
     "output_type": "error",
     "traceback": [
      "\u001b[1;31m---------------------------------------------------------------------------\u001b[0m",
      "\u001b[1;31mNameError\u001b[0m                                 Traceback (most recent call last)",
      "Cell \u001b[1;32mIn[49], line 40\u001b[0m\n\u001b[0;32m     37\u001b[0m         \u001b[38;5;28;01mreturn\u001b[39;00m \u001b[38;5;28;01mTrue\u001b[39;00m\n\u001b[0;32m     39\u001b[0m demo_blockchain \u001b[38;5;241m=\u001b[39m blockchain()\n\u001b[1;32m---> 40\u001b[0m demo_blockchain\u001b[38;5;241m.\u001b[39madd_block(block(datetime\u001b[38;5;241m.\u001b[39mdatetime\u001b[38;5;241m.\u001b[39mnow(), {\u001b[38;5;124m'\u001b[39m\u001b[38;5;124mdata\u001b[39m\u001b[38;5;124m'\u001b[39m:\u001b[38;5;124m\"\u001b[39m\u001b[38;5;124mTransaction 1\u001b[39m\u001b[38;5;124m\"\u001b[39m},\u001b[38;5;124m\"\u001b[39m\u001b[38;5;124m\"\u001b[39m))\n\u001b[0;32m     41\u001b[0m demo_blockchain\u001b[38;5;241m.\u001b[39madd_block(block(datetime\u001b[38;5;241m.\u001b[39mdatetime\u001b[38;5;241m.\u001b[39mnow(), {\u001b[38;5;124m'\u001b[39m\u001b[38;5;124mdata\u001b[39m\u001b[38;5;124m'\u001b[39m:\u001b[38;5;124m\"\u001b[39m\u001b[38;5;124mTransaction 2\u001b[39m\u001b[38;5;124m\"\u001b[39m},\u001b[38;5;124m\"\u001b[39m\u001b[38;5;124m\"\u001b[39m))\n\u001b[0;32m     42\u001b[0m demo_blockchain\u001b[38;5;241m.\u001b[39madd_block(block(datetime\u001b[38;5;241m.\u001b[39mdatetime\u001b[38;5;241m.\u001b[39mnow(), {\u001b[38;5;124m'\u001b[39m\u001b[38;5;124mdata\u001b[39m\u001b[38;5;124m'\u001b[39m:\u001b[38;5;124m\"\u001b[39m\u001b[38;5;124mTransaction 3\u001b[39m\u001b[38;5;124m\"\u001b[39m},\u001b[38;5;124m\"\u001b[39m\u001b[38;5;124m\"\u001b[39m))\n",
      "Cell \u001b[1;32mIn[32], line 25\u001b[0m, in \u001b[0;36mblockchain.add_block\u001b[1;34m(self, new_block)\u001b[0m\n\u001b[0;32m     23\u001b[0m \u001b[38;5;28;01mdef\u001b[39;00m \u001b[38;5;21madd_block\u001b[39m(\u001b[38;5;28mself\u001b[39m, new_block):\n\u001b[0;32m     24\u001b[0m     new_block\u001b[38;5;241m.\u001b[39mprevious_hash \u001b[38;5;241m=\u001b[39m \u001b[38;5;28mself\u001b[39m\u001b[38;5;241m.\u001b[39mchain[\u001b[38;5;241m-\u001b[39m\u001b[38;5;241m1\u001b[39m]\u001b[38;5;241m.\u001b[39mhash\n\u001b[1;32m---> 25\u001b[0m     new_block\u001b[38;5;241m.\u001b[39mhash \u001b[38;5;241m=\u001b[39m new\u001b[38;5;241m.\u001b[39mblock\u001b[38;5;241m.\u001b[39mcalculate_hash()\n\u001b[0;32m     26\u001b[0m     \u001b[38;5;28mself\u001b[39m\u001b[38;5;241m.\u001b[39mchain\u001b[38;5;241m.\u001b[39mappend(new_block)\n",
      "\u001b[1;31mNameError\u001b[0m: name 'new' is not defined"
     ]
    }
   ],
   "source": [
    "import hashlib\n",
    "import datetime\n",
    "\n",
    "class block:\n",
    "    def __init__ (self, timestamp, data, previous_hash):\n",
    "        self.timestamp = timestamp\n",
    "        self.previous_hash = previous_hash\n",
    "        self.data = data\n",
    "        self.hash = self.calculate_hash()\n",
    "    \n",
    "    def calculate_hash(self):\n",
    "        hash_string = str(self.timestamp) + str(self.data) + str(self.previous_hash)\n",
    "        return hashlib.sha256(hash_string.encode()).hexdigest()\n",
    "myBlock = block(datetime.datetime.now(), {'data':\"Transaction 1\"},\"\")\n",
    "\n",
    "class Blockchain:\n",
    "    def __init__(self):\n",
    "        self.chain = [self.create_genesis_block()]\n",
    "        \n",
    "    def create_genesis_block(self):\n",
    "        return block(datetime.datetime.now(),\"Genesis Block\",\"0\")\n",
    "    def add_block(self, new_block):\n",
    "        new_block.previous_hash = self.chain[-1].hash\n",
    "        new_block.hash = new_block.calculate_hash()\n",
    "        self.chain.append(new_block)\n",
    "    \n",
    "    def is_chain_valid():\n",
    "        for i in range (i, len(self.chain)):\n",
    "            current_block = self.chain[i]\n",
    "            previous_block = self.chain[i-1]\n",
    "            \n",
    "            if current_block.hash != current_block.calculate_hash():\n",
    "                return False\n",
    "            if previous_block.hash != previous_block.hash():\n",
    "                return False\n",
    "            \n",
    "        return True\n",
    "    \n",
    "demo_blockchain = blockchain()\n",
    "demo_blockchain.add_block(block(datetime.datetime.now(), {'data':\"Transaction 1\"},\"\"))\n",
    "demo_blockchain.add_block(block(datetime.datetime.now(), {'data':\"Transaction 2\"},\"\"))\n",
    "demo_blockchain.add_block(block(datetime.datetime.now(), {'data':\"Transaction 3\"},\"\"))\n",
    "        \n",
    "for block in demo.Blockchain.chain:\n",
    "    print(\"Data: \", block.data)\n",
    "    print(\"Timestamp: \", block.timestamp)\n",
    "    print(\"Hash: \", block.hash)\n",
    "    print(\"Previous_hash: \", block.previous_hash)\n",
    "    \n",
    "print(\"Is chain valid\", demo_blockchain.is_chain_valid())\n",
    "        "
   ]
  },
  {
   "cell_type": "code",
   "execution_count": null,
   "id": "6a109cf8",
   "metadata": {},
   "outputs": [],
   "source": []
  }
 ],
 "metadata": {
  "kernelspec": {
   "display_name": "Python 3 (ipykernel)",
   "language": "python",
   "name": "python3"
  },
  "language_info": {
   "codemirror_mode": {
    "name": "ipython",
    "version": 3
   },
   "file_extension": ".py",
   "mimetype": "text/x-python",
   "name": "python",
   "nbconvert_exporter": "python",
   "pygments_lexer": "ipython3",
   "version": "3.11.5"
  }
 },
 "nbformat": 4,
 "nbformat_minor": 5
}
