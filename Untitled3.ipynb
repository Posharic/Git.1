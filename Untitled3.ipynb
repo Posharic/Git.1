{
 "cells": [
  {
   "cell_type": "code",
   "execution_count": 7,
   "id": "c6ad101b",
   "metadata": {},
   "outputs": [
    {
     "name": "stdout",
     "output_type": "stream",
     "text": [
      "Data:  Genesis Block\n",
      "Timestamp:  2024-02-18 19:14:42.624870\n",
      "Hash:  4f659b048ae8bf89eecf0632d7ef195f9b695d5bc112afc7dcb1a5af23300116\n",
      "Previous_hash:  0\n",
      "Data:  {'data': 'Transaction 1'}\n",
      "Timestamp:  2024-02-18 19:14:42.624870\n",
      "Hash:  45551e45d0ba011cc2c937cb6edecd772265ac38620be9683b86f947e8a2180a\n",
      "Previous_hash:  4f659b048ae8bf89eecf0632d7ef195f9b695d5bc112afc7dcb1a5af23300116\n",
      "Data:  {'data': 'Transaction 2'}\n",
      "Timestamp:  2024-02-18 19:14:42.624870\n",
      "Hash:  3b1cbf173843be153ecbde83b7377aa05f9358d2df1e0d4bec016526fe6b0a06\n",
      "Previous_hash:  45551e45d0ba011cc2c937cb6edecd772265ac38620be9683b86f947e8a2180a\n",
      "Data:  {'data': 'Transaction 3'}\n",
      "Timestamp:  2024-02-18 19:14:42.624870\n",
      "Hash:  4e16e195406e3f4ba877650c7dc0b553820d8d59e262525a4a1942a3e9951aba\n",
      "Previous_hash:  3b1cbf173843be153ecbde83b7377aa05f9358d2df1e0d4bec016526fe6b0a06\n",
      "Is chain valid True\n"
     ]
    }
   ],
   "source": [
    "import hashlib\n",
    "import datetime\n",
    "\n",
    "class block:\n",
    "    def __init__ (self, timestamp, data, previous_hash):\n",
    "        self.timestamp = timestamp\n",
    "        self.previous_hash = previous_hash\n",
    "        self.data = data\n",
    "        self.hash = self.calculate_hash()\n",
    "    \n",
    "    def calculate_hash(self):\n",
    "        hash_string = str(self.timestamp) + str(self.data) + str(self.previous_hash)\n",
    "        return hashlib.sha256(hash_string.encode()).hexdigest()\n",
    "myBlock = block(datetime.datetime.now(), {'data':\"Transaction 1\"},\"\")\n",
    "\n",
    "class Blockchain:\n",
    "    def __init__(self):\n",
    "        self.chain = [self.create_genesis_block()]\n",
    "        \n",
    "    def create_genesis_block(self):\n",
    "        return block(datetime.datetime.now(),\"Genesis Block\",\"0\")\n",
    "    def add_block(self, new_block):\n",
    "        new_block.previous_hash = self.chain[-1].hash\n",
    "        new_block.hash = new_block.calculate_hash()\n",
    "        self.chain.append(new_block)\n",
    "    \n",
    "    def is_chain_valid(self):\n",
    "        for i in range(1, len(self.chain)):\n",
    "            current_block = self.chain[i]\n",
    "            previous_block = self.chain[i-1]\n",
    "            \n",
    "            if current_block.hash != current_block.calculate_hash():\n",
    "                return False\n",
    "            if previous_block.hash != previous_block.hash:\n",
    "                return False\n",
    "            \n",
    "        return True\n",
    "    \n",
    "demo_blockchain = Blockchain()\n",
    "demo_blockchain.add_block(block(datetime.datetime.now(), {'data':\"Transaction 1\"},\"\"))\n",
    "demo_blockchain.add_block(block(datetime.datetime.now(), {'data':\"Transaction 2\"},\"\"))\n",
    "demo_blockchain.add_block(block(datetime.datetime.now(), {'data':\"Transaction 3\"},\"\"))\n",
    "        \n",
    "for block in demo_blockchain.chain:\n",
    "    print(\"Data: \", block.data)\n",
    "    print(\"Timestamp: \", block.timestamp)\n",
    "    print(\"Hash: \", block.hash)\n",
    "    print(\"Previous_hash: \", block.previous_hash)\n",
    "    \n",
    "print(\"Is chain valid\", demo_blockchain.is_chain_valid())\n",
    "        "
   ]
  },
  {
   "cell_type": "code",
   "execution_count": null,
   "id": "c2758fb7",
   "metadata": {},
   "outputs": [],
   "source": []
  }
 ],
 "metadata": {
  "kernelspec": {
   "display_name": "Python 3 (ipykernel)",
   "language": "python",
   "name": "python3"
  },
  "language_info": {
   "codemirror_mode": {
    "name": "ipython",
    "version": 3
   },
   "file_extension": ".py",
   "mimetype": "text/x-python",
   "name": "python",
   "nbconvert_exporter": "python",
   "pygments_lexer": "ipython3",
   "version": "3.11.5"
  }
 },
 "nbformat": 4,
 "nbformat_minor": 5
}
